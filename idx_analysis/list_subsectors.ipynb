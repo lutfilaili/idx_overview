{
 "cells": [
  {
   "cell_type": "markdown",
   "metadata": {},
   "source": [
    "**Accessing List of All Subsectors**"
   ]
  },
  {
   "cell_type": "code",
   "execution_count": 5,
   "metadata": {},
   "outputs": [
    {
     "data": {
      "text/html": [
       "<div>\n",
       "<style scoped>\n",
       "    .dataframe tbody tr th:only-of-type {\n",
       "        vertical-align: middle;\n",
       "    }\n",
       "\n",
       "    .dataframe tbody tr th {\n",
       "        vertical-align: top;\n",
       "    }\n",
       "\n",
       "    .dataframe thead th {\n",
       "        text-align: right;\n",
       "    }\n",
       "</style>\n",
       "<table border=\"1\" class=\"dataframe\">\n",
       "  <thead>\n",
       "    <tr style=\"text-align: right;\">\n",
       "      <th></th>\n",
       "      <th>sector</th>\n",
       "      <th>subsector</th>\n",
       "    </tr>\n",
       "  </thead>\n",
       "  <tbody>\n",
       "    <tr>\n",
       "      <th>0</th>\n",
       "      <td>infrastructures</td>\n",
       "      <td>telecommunication</td>\n",
       "    </tr>\n",
       "    <tr>\n",
       "      <th>1</th>\n",
       "      <td>energy</td>\n",
       "      <td>oil-gas-coal</td>\n",
       "    </tr>\n",
       "    <tr>\n",
       "      <th>2</th>\n",
       "      <td>financials</td>\n",
       "      <td>financing-service</td>\n",
       "    </tr>\n",
       "    <tr>\n",
       "      <th>3</th>\n",
       "      <td>financials</td>\n",
       "      <td>investment-service</td>\n",
       "    </tr>\n",
       "    <tr>\n",
       "      <th>4</th>\n",
       "      <td>consumer-cyclicals</td>\n",
       "      <td>apparel-luxury-goods</td>\n",
       "    </tr>\n",
       "  </tbody>\n",
       "</table>\n",
       "</div>"
      ],
      "text/plain": [
       "               sector             subsector\n",
       "0     infrastructures     telecommunication\n",
       "1              energy          oil-gas-coal\n",
       "2          financials     financing-service\n",
       "3          financials    investment-service\n",
       "4  consumer-cyclicals  apparel-luxury-goods"
      ]
     },
     "execution_count": 5,
     "metadata": {},
     "output_type": "execute_result"
    }
   ],
   "source": [
    "import os\n",
    "import pandas as pd\n",
    "from dotenv import load_dotenv\n",
    "import requests\n",
    "\n",
    "\n",
    "load_dotenv()\n",
    "SECTOR_API_KEY = os.environ.get(\"SECTOR_API_KEY\")\n",
    "\n",
    "headers = {\n",
    "    \"Authorization\": SECTOR_API_KEY\n",
    "}\n",
    "response = requests.get(\"https://api.sectors.app/v1/subsectors/\", headers = headers)\n",
    "\n",
    "if response.status_code == 200:\n",
    "    data_all_subsectors = response.json()\n",
    "else:\n",
    "    # Handle error\n",
    "    print(response.status_code)\n",
    "\n",
    "pd.DataFrame(data_all_subsectors).head()\n"
   ]
  },
  {
   "cell_type": "markdown",
   "metadata": {},
   "source": [
    "### **Data Preparation** <p>\n",
    "we're going to use subsector column, then we'll drop the sector data one."
   ]
  },
  {
   "cell_type": "code",
   "execution_count": 6,
   "metadata": {},
   "outputs": [
    {
     "data": {
      "text/html": [
       "<div>\n",
       "<style scoped>\n",
       "    .dataframe tbody tr th:only-of-type {\n",
       "        vertical-align: middle;\n",
       "    }\n",
       "\n",
       "    .dataframe tbody tr th {\n",
       "        vertical-align: top;\n",
       "    }\n",
       "\n",
       "    .dataframe thead th {\n",
       "        text-align: right;\n",
       "    }\n",
       "</style>\n",
       "<table border=\"1\" class=\"dataframe\">\n",
       "  <thead>\n",
       "    <tr style=\"text-align: right;\">\n",
       "      <th></th>\n",
       "      <th>subsector</th>\n",
       "    </tr>\n",
       "  </thead>\n",
       "  <tbody>\n",
       "    <tr>\n",
       "      <th>0</th>\n",
       "      <td>telecommunication</td>\n",
       "    </tr>\n",
       "    <tr>\n",
       "      <th>1</th>\n",
       "      <td>oil-gas-coal</td>\n",
       "    </tr>\n",
       "    <tr>\n",
       "      <th>2</th>\n",
       "      <td>financing-service</td>\n",
       "    </tr>\n",
       "    <tr>\n",
       "      <th>3</th>\n",
       "      <td>investment-service</td>\n",
       "    </tr>\n",
       "    <tr>\n",
       "      <th>4</th>\n",
       "      <td>apparel-luxury-goods</td>\n",
       "    </tr>\n",
       "  </tbody>\n",
       "</table>\n",
       "</div>"
      ],
      "text/plain": [
       "              subsector\n",
       "0     telecommunication\n",
       "1          oil-gas-coal\n",
       "2     financing-service\n",
       "3    investment-service\n",
       "4  apparel-luxury-goods"
      ]
     },
     "execution_count": 6,
     "metadata": {},
     "output_type": "execute_result"
    }
   ],
   "source": [
    "# transforming data to pandas dataframe\n",
    "df = pd.DataFrame(data_all_subsectors)\n",
    "df = df.drop([\"sector\"], axis=1)\n",
    "df.head()\n"
   ]
  },
  {
   "cell_type": "markdown",
   "metadata": {},
   "source": [
    "standardise the data"
   ]
  },
  {
   "cell_type": "code",
   "execution_count": 7,
   "metadata": {},
   "outputs": [
    {
     "data": {
      "text/html": [
       "<div>\n",
       "<style scoped>\n",
       "    .dataframe tbody tr th:only-of-type {\n",
       "        vertical-align: middle;\n",
       "    }\n",
       "\n",
       "    .dataframe tbody tr th {\n",
       "        vertical-align: top;\n",
       "    }\n",
       "\n",
       "    .dataframe thead th {\n",
       "        text-align: right;\n",
       "    }\n",
       "</style>\n",
       "<table border=\"1\" class=\"dataframe\">\n",
       "  <thead>\n",
       "    <tr style=\"text-align: right;\">\n",
       "      <th></th>\n",
       "      <th>subsector</th>\n",
       "    </tr>\n",
       "  </thead>\n",
       "  <tbody>\n",
       "    <tr>\n",
       "      <th>0</th>\n",
       "      <td>Telecommunication</td>\n",
       "    </tr>\n",
       "    <tr>\n",
       "      <th>1</th>\n",
       "      <td>Oil Gas Coal</td>\n",
       "    </tr>\n",
       "    <tr>\n",
       "      <th>2</th>\n",
       "      <td>Financing Service</td>\n",
       "    </tr>\n",
       "    <tr>\n",
       "      <th>3</th>\n",
       "      <td>Investment Service</td>\n",
       "    </tr>\n",
       "    <tr>\n",
       "      <th>4</th>\n",
       "      <td>Apparel Luxury Goods</td>\n",
       "    </tr>\n",
       "  </tbody>\n",
       "</table>\n",
       "</div>"
      ],
      "text/plain": [
       "              subsector\n",
       "0     Telecommunication\n",
       "1          Oil Gas Coal\n",
       "2     Financing Service\n",
       "3    Investment Service\n",
       "4  Apparel Luxury Goods"
      ]
     },
     "execution_count": 7,
     "metadata": {},
     "output_type": "execute_result"
    }
   ],
   "source": [
    "df[\"subsector\"] = df[\"subsector\"].str.replace(\"-\",\" \")\n",
    "df[\"subsector\"] = df[\"subsector\"].str.title()\n",
    "df.head()\n"
   ]
  },
  {
   "cell_type": "markdown",
   "metadata": {},
   "source": [
    "### **Visualisation**"
   ]
  },
  {
   "cell_type": "markdown",
   "metadata": {},
   "source": [
    "Collecting data"
   ]
  },
  {
   "cell_type": "code",
   "execution_count": 10,
   "metadata": {},
   "outputs": [
    {
     "name": "stdout",
     "output_type": "stream",
     "text": [
      "Error Status : 429\n",
      "Error Status : 429\n",
      "Error Status : 429\n",
      "Error Status : 429\n",
      "Error Status : 429\n",
      "Error Status : 429\n",
      "Error Status : 429\n",
      "Error Status : 429\n",
      "Error Status : 429\n",
      "Error Status : 429\n",
      "Error Status : 429\n",
      "Error Status : 429\n",
      "Error Status : 429\n",
      "Error Status : 429\n",
      "[['telecommunication', 'BTEL.JK'], ['telecommunication', 'EXCL.JK'], ['telecommunication', 'FREN.JK'], ['telecommunication', 'GHON.JK'], ['telecommunication', 'ISAT.JK'], ['telecommunication', 'LINK.JK'], ['telecommunication', 'MTEL.JK'], ['telecommunication', 'TBIG.JK'], ['telecommunication', 'TLKM.JK'], ['telecommunication', 'TOWR.JK'], ['telecommunication', 'KETR.JK'], ['telecommunication', 'MORA.JK'], ['telecommunication', 'INET.JK'], ['telecommunication', 'BALI.JK'], ['telecommunication', 'SUPR.JK'], ['telecommunication', 'OASA.JK'], ['telecommunication', 'CENT.JK'], ['telecommunication', 'KBLV.JK'], ['telecommunication', 'DATA.JK'], ['telecommunication', 'LCKM.JK'], ['telecommunication', 'JAST.JK'], ['telecommunication', 'IBST.JK'], ['telecommunication', 'GOLD.JK'], ['oil-gas-coal', 'ABMM.JK'], ['oil-gas-coal', 'ADMR.JK'], ['oil-gas-coal', 'ADRO.JK'], ['oil-gas-coal', 'AKRA.JK'], ['oil-gas-coal', 'BIPI.JK'], ['oil-gas-coal', 'BSSR.JK'], ['oil-gas-coal', 'BULL.JK'], ['oil-gas-coal', 'BUMI.JK'], ['oil-gas-coal', 'BYAN.JK'], ['oil-gas-coal', 'CUAN.JK'], ['oil-gas-coal', 'DEWA.JK'], ['oil-gas-coal', 'DOID.JK'], ['oil-gas-coal', 'ELSA.JK'], ['oil-gas-coal', 'ENRG.JK'], ['oil-gas-coal', 'GEMS.JK'], ['oil-gas-coal', 'HILL.JK'], ['oil-gas-coal', 'HRUM.JK'], ['oil-gas-coal', 'IATA.JK'], ['oil-gas-coal', 'INDY.JK'], ['oil-gas-coal', 'ITMG.JK'], ['oil-gas-coal', 'KKGI.JK'], ['oil-gas-coal', 'MBAP.JK'], ['oil-gas-coal', 'MBSS.JK'], ['oil-gas-coal', 'MCOL.JK'], ['oil-gas-coal', 'MEDC.JK'], ['oil-gas-coal', 'MYOH.JK'], ['oil-gas-coal', 'PGAS.JK'], ['oil-gas-coal', 'PSSI.JK'], ['oil-gas-coal', 'PTBA.JK'], ['oil-gas-coal', 'PTRO.JK'], ['oil-gas-coal', 'RAJA.JK'], ['oil-gas-coal', 'RMKE.JK'], ['oil-gas-coal', 'SGER.JK'], ['oil-gas-coal', 'SMMT.JK'], ['oil-gas-coal', 'SOCI.JK'], ['oil-gas-coal', 'SUGI.JK'], ['oil-gas-coal', 'SUNI.JK'], ['oil-gas-coal', 'TAMU.JK'], ['oil-gas-coal', 'TCPI.JK'], ['oil-gas-coal', 'TOBA.JK'], ['oil-gas-coal', 'TPMA.JK'], ['oil-gas-coal', 'TRAM.JK'], ['oil-gas-coal', 'WINS.JK'], ['oil-gas-coal', 'MKAP.JK'], ['oil-gas-coal', 'INPS.JK'], ['oil-gas-coal', 'MAHA.JK'], ['oil-gas-coal', 'APEX.JK'], ['oil-gas-coal', 'RUIS.JK'], ['oil-gas-coal', 'ATLA.JK'], ['oil-gas-coal', 'DSSA.JK'], ['oil-gas-coal', 'ARTI.JK'], ['oil-gas-coal', 'RMKO.JK'], ['oil-gas-coal', 'CANI.JK'], ['oil-gas-coal', 'BESS.JK'], ['oil-gas-coal', 'CGAS.JK'], ['oil-gas-coal', 'DWGL.JK'], ['oil-gas-coal', 'HITS.JK'], ['oil-gas-coal', 'RIGS.JK'], ['oil-gas-coal', 'AIMS.JK'], ['oil-gas-coal', 'SMRU.JK'], ['oil-gas-coal', 'KOPI.JK'], ['oil-gas-coal', 'MTFN.JK'], ['oil-gas-coal', 'RGAS.JK'], ['oil-gas-coal', 'PTIS.JK'], ['oil-gas-coal', 'ITMA.JK'], ['oil-gas-coal', 'ALII.JK'], ['oil-gas-coal', 'GTBO.JK'], ['oil-gas-coal', 'SHIP.JK'], ['oil-gas-coal', 'FIRE.JK'], ['oil-gas-coal', 'TEBE.JK'], ['oil-gas-coal', 'SICO.JK'], ['oil-gas-coal', 'BOSS.JK'], ['oil-gas-coal', 'WOWS.JK'], ['oil-gas-coal', 'UNIQ.JK'], ['oil-gas-coal', 'COAL.JK'], ['oil-gas-coal', 'LEAD.JK'], ['oil-gas-coal', 'HUMI.JK'], ['oil-gas-coal', 'ARII.JK'], ['oil-gas-coal', 'BBRM.JK'], ['oil-gas-coal', 'CNKO.JK'], ['oil-gas-coal', 'PKPK.JK'], ['oil-gas-coal', 'SURE.JK'], ['oil-gas-coal', 'CBRE.JK'], ['oil-gas-coal', 'GTSI.JK'], ['oil-gas-coal', 'BSML.JK'], ['financing-service', 'ADMF.JK'], ['financing-service', 'BFIN.JK'], ['financing-service', 'CFIN.JK'], ['financing-service', 'MFIN.JK'], ['financing-service', 'WOMF.JK'], ['financing-service', 'FUJI.JK'], ['financing-service', 'VRNA.JK'], ['financing-service', 'HDFA.JK'], ['financing-service', 'DEFI.JK'], ['financing-service', 'VTNY.JK'], ['financing-service', 'BPFI.JK'], ['financing-service', 'BBLD.JK'], ['financing-service', 'TRUS.JK'], ['financing-service', 'POLA.JK'], ['financing-service', 'TIFA.JK'], ['investment-service', 'AMOR.JK'], ['investment-service', 'PANS.JK'], ['investment-service', 'TRIM.JK'], ['investment-service', 'YULE.JK'], ['investment-service', 'RELI.JK'], ['investment-service', 'PADI.JK'], ['apparel-luxury-goods', 'BATA.JK'], ['apparel-luxury-goods', 'HRTA.JK'], ['apparel-luxury-goods', 'INDR.JK'], ['apparel-luxury-goods', 'INOV.JK'], ['apparel-luxury-goods', 'PBRX.JK'], ['apparel-luxury-goods', 'SRIL.JK'], ['apparel-luxury-goods', 'SBAT.JK'], ['apparel-luxury-goods', 'ERTX.JK'], ['apparel-luxury-goods', 'CNTX.JK'], ['apparel-luxury-goods', 'POLU.JK'], ['apparel-luxury-goods', 'MYTX.JK'], ['apparel-luxury-goods', 'UNIT.JK'], ['apparel-luxury-goods', 'POLY.JK'], ['apparel-luxury-goods', 'SSTM.JK'], ['apparel-luxury-goods', 'SPRE.JK'], ['apparel-luxury-goods', 'ESTI.JK'], ['apparel-luxury-goods', 'BIMA.JK'], ['apparel-luxury-goods', 'TRIS.JK'], ['apparel-luxury-goods', 'BELL.JK'], ['apparel-luxury-goods', 'RICY.JK'], ['apparel-luxury-goods', 'TFCO.JK'], ['apparel-luxury-goods', 'ARGO.JK'], ['apparel-luxury-goods', 'ACRO.JK'], ['apparel-luxury-goods', 'HDTX.JK'], ['software-it-services', 'BELI.JK'], ['software-it-services', 'BUKA.JK'], ['software-it-services', 'DIVA.JK'], ['software-it-services', 'DMMX.JK'], ['software-it-services', 'EMTK.JK'], ['software-it-services', 'GOTO.JK'], ['software-it-services', 'KREN.JK'], ['software-it-services', 'MCAS.JK'], ['software-it-services', 'NFCX.JK'], ['software-it-services', 'TECH.JK'], ['software-it-services', 'WIFI.JK'], ['software-it-services', 'WIRG.JK'], ['software-it-services', 'IRSX.JK'], ['software-it-services', 'SKYB.JK'], ['software-it-services', 'ELIT.JK'], ['software-it-services', 'PGJO.JK'], ['software-it-services', 'LMAS.JK'], ['software-it-services', 'CASH.JK'], ['software-it-services', 'ATIC.JK'], ['software-it-services', 'AREA.JK'], ['software-it-services', 'WGSH.JK'], ['software-it-services', 'TRON.JK'], ['software-it-services', 'EDGE.JK'], ['software-it-services', 'JATI.JK'], ['software-it-services', 'TFAS.JK'], ['software-it-services', 'ENVY.JK'], ['software-it-services', 'CYBR.JK'], ['software-it-services', 'AWAN.JK'], ['software-it-services', 'MPIX.JK'], ['software-it-services', 'TOSK.JK'], ['software-it-services', 'KIOS.JK'], ['software-it-services', 'UVCR.JK'], ['software-it-services', 'HDIT.JK'], ['software-it-services', 'MLPT.JK'], ['software-it-services', 'RUNS.JK'], ['software-it-services', 'DCII.JK'], ['insurance', 'AMAG.JK'], ['insurance', 'ASDM.JK'], ['insurance', 'ASMI.JK'], ['insurance', 'BHAT.JK'], ['insurance', 'PNIN.JK'], ['insurance', 'PNLF.JK'], ['insurance', 'TUGU.JK'], ['insurance', 'JMAS.JK'], ['insurance', 'ABDA.JK'], ['insurance', 'VINS.JK'], ['insurance', 'MTWI.JK'], ['insurance', 'MREI.JK'], ['insurance', 'ASRM.JK'], ['insurance', 'AHAP.JK'], ['insurance', 'LPGI.JK'], ['insurance', 'ASBI.JK'], ['insurance', 'LIFE.JK'], ['insurance', 'ASJT.JK'], ['heavy-constructions-civil-engineering', 'ACST.JK'], ['heavy-constructions-civil-engineering', 'ADHI.JK'], ['heavy-constructions-civil-engineering', 'IDPR.JK'], ['heavy-constructions-civil-engineering', 'JKON.JK'], ['heavy-constructions-civil-engineering', 'NRCA.JK'], ['heavy-constructions-civil-engineering', 'PPRE.JK'], ['heavy-constructions-civil-engineering', 'PTPP.JK'], ['heavy-constructions-civil-engineering', 'SSIA.JK'], ['heavy-constructions-civil-engineering', 'TOTL.JK'], ['heavy-constructions-civil-engineering', 'WEGE.JK'], ['heavy-constructions-civil-engineering', 'WIKA.JK'], ['heavy-constructions-civil-engineering', 'WSKT.JK'], ['heavy-constructions-civil-engineering', 'BUKK.JK'], ['heavy-constructions-civil-engineering', 'MTPS.JK'], ['heavy-constructions-civil-engineering', 'DGIK.JK'], ['heavy-constructions-civil-engineering', 'PTDU.JK'], ['heavy-constructions-civil-engineering', 'KOKA.JK'], ['heavy-constructions-civil-engineering', 'TAMA.JK'], ['heavy-constructions-civil-engineering', 'FIMP.JK'], ['heavy-constructions-civil-engineering', 'PTPW.JK'], ['heavy-constructions-civil-engineering', 'RONY.JK'], ['heavy-constructions-civil-engineering', 'MANG.JK'], ['heavy-constructions-civil-engineering', 'MTRA.JK'], ['heavy-constructions-civil-engineering', 'SMKM.JK'], ['heavy-constructions-civil-engineering', 'PBSA.JK'], ['heavy-constructions-civil-engineering', 'TOPS.JK'], ['heavy-constructions-civil-engineering', 'ASLI.JK'], ['heavy-constructions-civil-engineering', 'KRYA.JK'], ['heavy-constructions-civil-engineering', 'BDKR.JK'], ['banks', 'AGRO.JK'], ['banks', 'AGRS.JK'], ['banks', 'AMAR.JK'], ['banks', 'ARTO.JK'], ['banks', 'BABP.JK'], ['banks', 'BACA.JK'], ['banks', 'BANK.JK'], ['banks', 'BBCA.JK'], ['banks', 'BBHI.JK'], ['banks', 'BBKP.JK'], ['banks', 'BBNI.JK'], ['banks', 'BBRI.JK'], ['banks', 'BBTN.JK'], ['banks', 'BBYB.JK'], ['banks', 'BDMN.JK'], ['banks', 'BGTG.JK'], ['banks', 'BINA.JK'], ['banks', 'BJBR.JK'], ['banks', 'BJTM.JK'], ['banks', 'BMRI.JK'], ['banks', 'BNBA.JK'], ['banks', 'BNGA.JK'], ['banks', 'BNII.JK'], ['banks', 'BNLI.JK'], ['banks', 'BRIS.JK'], ['banks', 'BTPN.JK'], ['banks', 'BTPS.JK'], ['banks', 'BVIC.JK'], ['banks', 'DNAR.JK'], ['banks', 'INPC.JK'], ['banks', 'MAYA.JK'], ['banks', 'MCOR.JK'], ['banks', 'MEGA.JK'], ['banks', 'NISP.JK'], ['banks', 'NOBU.JK'], ['banks', 'PNBN.JK'], ['banks', 'PNBS.JK'], ['banks', 'SDRA.JK'], ['banks', 'BBSI.JK'], ['banks', 'BBMD.JK'], ['banks', 'BSWD.JK'], ['banks', 'BKSW.JK'], ['banks', 'BMAS.JK'], ['banks', 'BEKS.JK'], ['banks', 'MASB.JK'], ['banks', 'BSIM.JK'], ['banks', 'BCIC.JK'], ['holding-investment-companies', 'APIC.JK'], ['holding-investment-companies', 'BCAP.JK'], ['holding-investment-companies', 'CASA.JK'], ['holding-investment-companies', 'POOL.JK'], ['holding-investment-companies', 'SRTG.JK'], ['holding-investment-companies', 'VICO.JK'], ['holding-investment-companies', 'NICK.JK'], ['holding-investment-companies', 'DNET.JK'], ['holding-investment-companies', 'GSMF.JK'], ['holding-investment-companies', 'STAR.JK'], ['holding-investment-companies', 'SMMA.JK'], ['holding-investment-companies', 'PALM.JK'], ['holding-investment-companies', 'BPII.JK'], ['holding-investment-companies', 'SFAN.JK'], ['holding-investment-companies', 'LPPS.JK'], ['holding-investment-companies', 'PLAS.JK'], ['holding-investment-companies', 'MGNA.JK'], ['holding-investment-companies', 'OCAP.JK'], ['holding-investment-companies', 'PEGE.JK'], ['industrial-services', 'ASGR.JK'], ['industrial-services', 'JTPE.JK'], ['industrial-services', 'MDRN.JK'], ['industrial-services', 'MFMI.JK'], ['industrial-services', 'VISI.JK'], ['industrial-services', 'SOSS.JK'], ['industrial-services', 'BINO.JK'], ['industrial-services', 'KONI.JK'], ['industrial-services', 'HYGN.JK'], ['industrial-services', 'ICON.JK'], ['industrial-services', 'PADA.JK'], ['industrial-services', 'MHKI.JK'], ['industrial-services', 'CRSN.JK'], ['industrial-services', 'LION.JK'], ['industrial-services', 'INDX.JK'], ['industrial-services', 'KING.JK'], ['industrial-services', 'MUTU.JK'], ['industrial-services', 'BLUE.JK'], ['industrial-services', 'DYAN.JK'], ['industrial-services', 'TRIL.JK'], ['industrial-services', 'TIRA.JK'], ['consumer-services', 'BAYU.JK'], ['consumer-services', 'BOLA.JK'], ['consumer-services', 'CNMA.JK'], ['consumer-services', 'DUCK.JK'], ['consumer-services', 'ENAK.JK'], ['consumer-services', 'FAST.JK'], ['consumer-services', 'JGLE.JK'], ['consumer-services', 'KPIG.JK'], ['consumer-services', 'NATO.JK'], ['consumer-services', 'PZZA.JK'], ['consumer-services', 'HRME.JK'], ['consumer-services', 'PANR.JK'], ['consumer-services', 'MINA.JK'], ['consumer-services', 'RAFI.JK'], ['consumer-services', 'EAST.JK'], ['consumer-services', 'IDEA.JK'], ['consumer-services', 'KDTN.JK'], ['consumer-services', 'LUCY.JK'], ['consumer-services', 'JSPT.JK'], ['consumer-services', 'PSKT.JK'], ['consumer-services', 'ARTA.JK'], ['consumer-services', 'SHID.JK'], ['consumer-services', 'GWSA.JK'], ['consumer-services', 'CLAY.JK'], ['consumer-services', 'GRPH.JK'], ['consumer-services', 'ESTA.JK'], ['consumer-services', 'JIHD.JK'], ['consumer-services', 'BLTZ.JK'], ['consumer-services', 'HOTL.JK'], ['consumer-services', 'BMBL.JK'], ['consumer-services', 'AKKU.JK'], ['consumer-services', 'MABA.JK'], ['consumer-services', 'KOTA.JK'], ['consumer-services', 'CSMI.JK'], ['consumer-services', 'PLAN.JK'], ['consumer-services', 'HOME.JK'], ['consumer-services', 'DFAM.JK'], ['consumer-services', 'BUVA.JK'], ['consumer-services', 'PGLI.JK'], ['consumer-services', 'MAMI.JK'], ['consumer-services', 'PDES.JK'], ['consumer-services', 'SNLK.JK'], ['consumer-services', 'PTSP.JK'], ['consumer-services', 'NUSA.JK'], ['consumer-services', 'GOLF.JK'], ['consumer-services', 'HAJJ.JK'], ['consumer-services', 'PJAA.JK'], ['consumer-services', 'BAIK.JK'], ['consumer-services', 'FITT.JK'], ['consumer-services', 'SOTS.JK'], ['consumer-services', 'PNSE.JK'], ['consumer-services', 'MAPB.JK'], ['utilities', 'ARKO.JK'], ['utilities', 'BREN.JK'], ['utilities', 'KEEN.JK'], ['utilities', 'PGEO.JK'], ['utilities', 'POWR.JK'], ['utilities', 'MPOW.JK'], ['utilities', 'TGRA.JK'], ['utilities', 'LAPD.JK'], ['utilities', 'HADE.JK'], ['tobacco', 'GGRM.JK'], ['tobacco', 'HMSP.JK'], ['tobacco', 'WIIM.JK'], ['tobacco', 'ITIC.JK'], ['logistics-deliveries', 'BLTA.JK'], ['logistics-deliveries', 'ELPI.JK'], ['logistics-deliveries', 'HATM.JK'], ['logistics-deliveries', 'SMDR.JK'], ['logistics-deliveries', 'TMAS.JK'], ['logistics-deliveries', 'MIRA.JK'], ['logistics-deliveries', 'KJEN.JK'], ['logistics-deliveries', 'LOPI.JK'], ['logistics-deliveries', 'JAYA.JK'], ['logistics-deliveries', 'PURA.JK'], ['logistics-deliveries', 'KLAS.JK'], ['logistics-deliveries', 'MPXL.JK'], ['logistics-deliveries', 'LAJU.JK'], ['logistics-deliveries', 'PPGL.JK'], ['logistics-deliveries', 'AKSI.JK'], ['logistics-deliveries', 'SDMU.JK'], ['logistics-deliveries', 'TRUK.JK'], ['logistics-deliveries', 'DEAL.JK'], ['logistics-deliveries', 'NELY.JK'], ['logistics-deliveries', 'HAIS.JK'], ['logistics-deliveries', 'GTRA.JK'], ['logistics-deliveries', 'SAPX.JK'], ['logistics-deliveries', 'MITI.JK'], ['logistics-deliveries', 'RCCC.JK'], ['logistics-deliveries', 'TNCA.JK'], ['multi-sector-holdings', 'ASII.JK'], ['multi-sector-holdings', 'BHIT.JK'], ['multi-sector-holdings', 'BNBR.JK'], ['multi-sector-holdings', 'FOLK.JK'], ['multi-sector-holdings', 'ZBRA.JK'], ['healthcare-equipment-providers', 'BMHS.JK'], ['healthcare-equipment-providers', 'CARE.JK'], ['healthcare-equipment-providers', 'HEAL.JK'], ['healthcare-equipment-providers', 'MIKA.JK'], ['healthcare-equipment-providers', 'OMED.JK'], ['healthcare-equipment-providers', 'PRDA.JK'], ['healthcare-equipment-providers', 'SAME.JK'], ['healthcare-equipment-providers', 'SILO.JK'], ['healthcare-equipment-providers', 'SRAJ.JK'], ['healthcare-equipment-providers', 'LABS.JK'], ['healthcare-equipment-providers', 'HALO.JK'], ['healthcare-equipment-providers', 'RSGK.JK'], ['healthcare-equipment-providers', 'RSCH.JK'], ['healthcare-equipment-providers', 'DGNS.JK'], ['healthcare-equipment-providers', 'MEDS.JK'], ['healthcare-equipment-providers', 'IRRA.JK'], ['healthcare-equipment-providers', 'MTMH.JK'], ['healthcare-equipment-providers', 'PRAY.JK'], ['healthcare-equipment-providers', 'MMIX.JK'], ['healthcare-equipment-providers', 'SURI.JK'], ['healthcare-equipment-providers', 'PRIM.JK'], ['alternative-energy', 'JSKY.JK'], ['alternative-energy', 'SEMA.JK'], ['automobiles-components', 'AUTO.JK'], ['automobiles-components', 'BRAM.JK'], ['automobiles-components', 'DRMA.JK'], ['automobiles-components', 'GJTL.JK'], ['automobiles-components', 'INDS.JK'], ['automobiles-components', 'SMSM.JK'], ['automobiles-components', 'PRAS.JK'], ['automobiles-components', 'AEGS.JK'], ['automobiles-components', 'MASA.JK'], ['automobiles-components', 'PART.JK'], ['automobiles-components', 'NIPS.JK'], ['automobiles-components', 'GDYR.JK'], ['automobiles-components', 'ISAP.JK'], ['automobiles-components', 'TYRE.JK'], ['automobiles-components', 'BOLT.JK'], ['automobiles-components', 'LMAX.JK'], ['automobiles-components', 'LPIN.JK'], ['automobiles-components', 'VKTR.JK']]\n"
     ]
    }
   ],
   "source": [
    "result_data = []\n",
    "for data in data_all_subsectors:\n",
    "    subsector = data[\"subsector\"]\n",
    "    headers = {\n",
    "    \"Authorization\": SECTOR_API_KEY\n",
    "    }\n",
    "\n",
    "    response = requests.get(f\"https://api.sectors.app/v1/companies/?sub_sector={subsector}\", headers = headers)\n",
    "\n",
    "    if response.status_code == 200:\n",
    "        list_companies_by_subsectors = response.json()\n",
    "        for company in list_companies_by_subsectors:\n",
    "            result_data.append([subsector, company[\"symbol\"]])\n",
    "    else:\n",
    "        # Handle error\n",
    "        print(\"Error Status :\",response.status_code)\n",
    "\n",
    "print(result_data)\n"
   ]
  },
  {
   "cell_type": "code",
   "execution_count": 11,
   "metadata": {},
   "outputs": [],
   "source": [
    "df = pd.DataFrame(result_data, columns=[\"subsectors\", \"company\"])\n",
    "df[\"subsectors\"] = df[\"subsectors\"].str.replace(\"-\",\" \")\n",
    "df[\"subsectors\"] = df[\"subsectors\"].str.title()\n",
    "df_grouped = df.groupby('subsectors').size().reset_index(name=\"total_companies\")\n"
   ]
  },
  {
   "cell_type": "code",
   "execution_count": 13,
   "metadata": {},
   "outputs": [
    {
     "data": {
      "text/html": [
       "<div>\n",
       "<style scoped>\n",
       "    .dataframe tbody tr th:only-of-type {\n",
       "        vertical-align: middle;\n",
       "    }\n",
       "\n",
       "    .dataframe tbody tr th {\n",
       "        vertical-align: top;\n",
       "    }\n",
       "\n",
       "    .dataframe thead th {\n",
       "        text-align: right;\n",
       "    }\n",
       "</style>\n",
       "<table border=\"1\" class=\"dataframe\">\n",
       "  <thead>\n",
       "    <tr style=\"text-align: right;\">\n",
       "      <th></th>\n",
       "      <th>subsectors</th>\n",
       "      <th>total_companies</th>\n",
       "    </tr>\n",
       "  </thead>\n",
       "  <tbody>\n",
       "    <tr>\n",
       "      <th>0</th>\n",
       "      <td>Alternative Energy</td>\n",
       "      <td>2</td>\n",
       "    </tr>\n",
       "    <tr>\n",
       "      <th>1</th>\n",
       "      <td>Apparel Luxury Goods</td>\n",
       "      <td>24</td>\n",
       "    </tr>\n",
       "    <tr>\n",
       "      <th>2</th>\n",
       "      <td>Automobiles Components</td>\n",
       "      <td>18</td>\n",
       "    </tr>\n",
       "    <tr>\n",
       "      <th>3</th>\n",
       "      <td>Banks</td>\n",
       "      <td>47</td>\n",
       "    </tr>\n",
       "    <tr>\n",
       "      <th>4</th>\n",
       "      <td>Consumer Services</td>\n",
       "      <td>52</td>\n",
       "    </tr>\n",
       "  </tbody>\n",
       "</table>\n",
       "</div>"
      ],
      "text/plain": [
       "               subsectors  total_companies\n",
       "0      Alternative Energy                2\n",
       "1    Apparel Luxury Goods               24\n",
       "2  Automobiles Components               18\n",
       "3                   Banks               47\n",
       "4       Consumer Services               52"
      ]
     },
     "execution_count": 13,
     "metadata": {},
     "output_type": "execute_result"
    }
   ],
   "source": [
    "df_grouped.head()"
   ]
  },
  {
   "cell_type": "code",
   "execution_count": 14,
   "metadata": {},
   "outputs": [
    {
     "data": {
      "text/html": [
       "\n",
       "<style>\n",
       "  #altair-viz-37cde1c26a5b4b5f93b1561d4a037524.vega-embed {\n",
       "    width: 100%;\n",
       "    display: flex;\n",
       "  }\n",
       "\n",
       "  #altair-viz-37cde1c26a5b4b5f93b1561d4a037524.vega-embed details,\n",
       "  #altair-viz-37cde1c26a5b4b5f93b1561d4a037524.vega-embed details summary {\n",
       "    position: relative;\n",
       "  }\n",
       "</style>\n",
       "<div id=\"altair-viz-37cde1c26a5b4b5f93b1561d4a037524\"></div>\n",
       "<script type=\"text/javascript\">\n",
       "  var VEGA_DEBUG = (typeof VEGA_DEBUG == \"undefined\") ? {} : VEGA_DEBUG;\n",
       "  (function(spec, embedOpt){\n",
       "    let outputDiv = document.currentScript.previousElementSibling;\n",
       "    if (outputDiv.id !== \"altair-viz-37cde1c26a5b4b5f93b1561d4a037524\") {\n",
       "      outputDiv = document.getElementById(\"altair-viz-37cde1c26a5b4b5f93b1561d4a037524\");\n",
       "    }\n",
       "    const paths = {\n",
       "      \"vega\": \"https://cdn.jsdelivr.net/npm/vega@5?noext\",\n",
       "      \"vega-lib\": \"https://cdn.jsdelivr.net/npm/vega-lib?noext\",\n",
       "      \"vega-lite\": \"https://cdn.jsdelivr.net/npm/vega-lite@5.20.1?noext\",\n",
       "      \"vega-embed\": \"https://cdn.jsdelivr.net/npm/vega-embed@6?noext\",\n",
       "    };\n",
       "\n",
       "    function maybeLoadScript(lib, version) {\n",
       "      var key = `${lib.replace(\"-\", \"\")}_version`;\n",
       "      return (VEGA_DEBUG[key] == version) ?\n",
       "        Promise.resolve(paths[lib]) :\n",
       "        new Promise(function(resolve, reject) {\n",
       "          var s = document.createElement('script');\n",
       "          document.getElementsByTagName(\"head\")[0].appendChild(s);\n",
       "          s.async = true;\n",
       "          s.onload = () => {\n",
       "            VEGA_DEBUG[key] = version;\n",
       "            return resolve(paths[lib]);\n",
       "          };\n",
       "          s.onerror = () => reject(`Error loading script: ${paths[lib]}`);\n",
       "          s.src = paths[lib];\n",
       "        });\n",
       "    }\n",
       "\n",
       "    function showError(err) {\n",
       "      outputDiv.innerHTML = `<div class=\"error\" style=\"color:red;\">${err}</div>`;\n",
       "      throw err;\n",
       "    }\n",
       "\n",
       "    function displayChart(vegaEmbed) {\n",
       "      vegaEmbed(outputDiv, spec, embedOpt)\n",
       "        .catch(err => showError(`Javascript Error: ${err.message}<br>This usually means there's a typo in your chart specification. See the javascript console for the full traceback.`));\n",
       "    }\n",
       "\n",
       "    if(typeof define === \"function\" && define.amd) {\n",
       "      requirejs.config({paths});\n",
       "      require([\"vega-embed\"], displayChart, err => showError(`Error loading script: ${err.message}`));\n",
       "    } else {\n",
       "      maybeLoadScript(\"vega\", \"5\")\n",
       "        .then(() => maybeLoadScript(\"vega-lite\", \"5.20.1\"))\n",
       "        .then(() => maybeLoadScript(\"vega-embed\", \"6\"))\n",
       "        .catch(showError)\n",
       "        .then(() => displayChart(vegaEmbed));\n",
       "    }\n",
       "  })({\"config\": {\"view\": {\"continuousWidth\": 300, \"continuousHeight\": 300}}, \"data\": {\"name\": \"data-1cc77db6918aed1d82d5ed6dc411859e\"}, \"mark\": {\"type\": \"bar\"}, \"encoding\": {\"x\": {\"field\": \"total_companies\", \"type\": \"quantitative\"}, \"y\": {\"field\": \"subsectors\", \"sort\": \"-x\", \"type\": \"nominal\"}}, \"$schema\": \"https://vega.github.io/schema/vega-lite/v5.20.1.json\", \"datasets\": {\"data-1cc77db6918aed1d82d5ed6dc411859e\": [{\"subsectors\": \"Alternative Energy\", \"total_companies\": 2}, {\"subsectors\": \"Apparel Luxury Goods\", \"total_companies\": 24}, {\"subsectors\": \"Automobiles Components\", \"total_companies\": 18}, {\"subsectors\": \"Banks\", \"total_companies\": 47}, {\"subsectors\": \"Consumer Services\", \"total_companies\": 52}, {\"subsectors\": \"Financing Service\", \"total_companies\": 15}, {\"subsectors\": \"Healthcare Equipment Providers\", \"total_companies\": 21}, {\"subsectors\": \"Heavy Constructions Civil Engineering\", \"total_companies\": 29}, {\"subsectors\": \"Holding Investment Companies\", \"total_companies\": 19}, {\"subsectors\": \"Industrial Services\", \"total_companies\": 21}, {\"subsectors\": \"Insurance\", \"total_companies\": 18}, {\"subsectors\": \"Investment Service\", \"total_companies\": 6}, {\"subsectors\": \"Logistics Deliveries\", \"total_companies\": 25}, {\"subsectors\": \"Multi Sector Holdings\", \"total_companies\": 5}, {\"subsectors\": \"Oil Gas Coal\", \"total_companies\": 85}, {\"subsectors\": \"Software It Services\", \"total_companies\": 36}, {\"subsectors\": \"Telecommunication\", \"total_companies\": 23}, {\"subsectors\": \"Tobacco\", \"total_companies\": 4}, {\"subsectors\": \"Utilities\", \"total_companies\": 9}]}}, {\"mode\": \"vega-lite\"});\n",
       "</script>"
      ],
      "text/plain": [
       "alt.Chart(...)"
      ]
     },
     "metadata": {},
     "output_type": "display_data"
    }
   ],
   "source": [
    "import altair as alt\n",
    "\n",
    "chart = alt.Chart(df_grouped).mark_bar().encode(\n",
    "    x='total_companies',\n",
    "    y=alt.Y('subsectors', sort='-x')\n",
    ")\n",
    "\n",
    "chart.display()\n"
   ]
  },
  {
   "cell_type": "code",
   "execution_count": 15,
   "metadata": {},
   "outputs": [],
   "source": [
    "df_grouped = df_grouped.sort_values(by=\"total_companies\", ascending=False)\n",
    "top_five_subsectors = df_grouped.head(5)"
   ]
  },
  {
   "cell_type": "code",
   "execution_count": 16,
   "metadata": {},
   "outputs": [
    {
     "data": {
      "text/html": [
       "\n",
       "<style>\n",
       "  #altair-viz-bddac6a527e948c28942d9f1b1db743a.vega-embed {\n",
       "    width: 100%;\n",
       "    display: flex;\n",
       "  }\n",
       "\n",
       "  #altair-viz-bddac6a527e948c28942d9f1b1db743a.vega-embed details,\n",
       "  #altair-viz-bddac6a527e948c28942d9f1b1db743a.vega-embed details summary {\n",
       "    position: relative;\n",
       "  }\n",
       "</style>\n",
       "<div id=\"altair-viz-bddac6a527e948c28942d9f1b1db743a\"></div>\n",
       "<script type=\"text/javascript\">\n",
       "  var VEGA_DEBUG = (typeof VEGA_DEBUG == \"undefined\") ? {} : VEGA_DEBUG;\n",
       "  (function(spec, embedOpt){\n",
       "    let outputDiv = document.currentScript.previousElementSibling;\n",
       "    if (outputDiv.id !== \"altair-viz-bddac6a527e948c28942d9f1b1db743a\") {\n",
       "      outputDiv = document.getElementById(\"altair-viz-bddac6a527e948c28942d9f1b1db743a\");\n",
       "    }\n",
       "    const paths = {\n",
       "      \"vega\": \"https://cdn.jsdelivr.net/npm/vega@5?noext\",\n",
       "      \"vega-lib\": \"https://cdn.jsdelivr.net/npm/vega-lib?noext\",\n",
       "      \"vega-lite\": \"https://cdn.jsdelivr.net/npm/vega-lite@5.20.1?noext\",\n",
       "      \"vega-embed\": \"https://cdn.jsdelivr.net/npm/vega-embed@6?noext\",\n",
       "    };\n",
       "\n",
       "    function maybeLoadScript(lib, version) {\n",
       "      var key = `${lib.replace(\"-\", \"\")}_version`;\n",
       "      return (VEGA_DEBUG[key] == version) ?\n",
       "        Promise.resolve(paths[lib]) :\n",
       "        new Promise(function(resolve, reject) {\n",
       "          var s = document.createElement('script');\n",
       "          document.getElementsByTagName(\"head\")[0].appendChild(s);\n",
       "          s.async = true;\n",
       "          s.onload = () => {\n",
       "            VEGA_DEBUG[key] = version;\n",
       "            return resolve(paths[lib]);\n",
       "          };\n",
       "          s.onerror = () => reject(`Error loading script: ${paths[lib]}`);\n",
       "          s.src = paths[lib];\n",
       "        });\n",
       "    }\n",
       "\n",
       "    function showError(err) {\n",
       "      outputDiv.innerHTML = `<div class=\"error\" style=\"color:red;\">${err}</div>`;\n",
       "      throw err;\n",
       "    }\n",
       "\n",
       "    function displayChart(vegaEmbed) {\n",
       "      vegaEmbed(outputDiv, spec, embedOpt)\n",
       "        .catch(err => showError(`Javascript Error: ${err.message}<br>This usually means there's a typo in your chart specification. See the javascript console for the full traceback.`));\n",
       "    }\n",
       "\n",
       "    if(typeof define === \"function\" && define.amd) {\n",
       "      requirejs.config({paths});\n",
       "      require([\"vega-embed\"], displayChart, err => showError(`Error loading script: ${err.message}`));\n",
       "    } else {\n",
       "      maybeLoadScript(\"vega\", \"5\")\n",
       "        .then(() => maybeLoadScript(\"vega-lite\", \"5.20.1\"))\n",
       "        .then(() => maybeLoadScript(\"vega-embed\", \"6\"))\n",
       "        .catch(showError)\n",
       "        .then(() => displayChart(vegaEmbed));\n",
       "    }\n",
       "  })({\"config\": {\"view\": {\"continuousWidth\": 300, \"continuousHeight\": 300}, \"axis\": {\"labelFontSize\": 12, \"titleFontSize\": 14}, \"title\": {\"anchor\": \"start\", \"color\": \"black\", \"fontSize\": 20}}, \"data\": {\"name\": \"data-a45d405978fa9fc99f6319e170f86086\"}, \"mark\": {\"type\": \"bar\"}, \"encoding\": {\"color\": {\"field\": \"subsectors\", \"legend\": null, \"type\": \"nominal\"}, \"x\": {\"field\": \"total_companies\", \"title\": \"Total Companies\", \"type\": \"quantitative\"}, \"y\": {\"field\": \"subsectors\", \"sort\": \"-x\", \"title\": \"Subsectors\", \"type\": \"nominal\"}}, \"height\": 300, \"title\": \"Number of Companies by Subsector\", \"width\": 600, \"$schema\": \"https://vega.github.io/schema/vega-lite/v5.20.1.json\", \"datasets\": {\"data-a45d405978fa9fc99f6319e170f86086\": [{\"subsectors\": \"Oil Gas Coal\", \"total_companies\": 85}, {\"subsectors\": \"Consumer Services\", \"total_companies\": 52}, {\"subsectors\": \"Banks\", \"total_companies\": 47}, {\"subsectors\": \"Software It Services\", \"total_companies\": 36}, {\"subsectors\": \"Heavy Constructions Civil Engineering\", \"total_companies\": 29}]}}, {\"mode\": \"vega-lite\"});\n",
       "</script>"
      ],
      "text/plain": [
       "alt.Chart(...)"
      ]
     },
     "metadata": {},
     "output_type": "display_data"
    }
   ],
   "source": [
    "chart = alt.Chart(top_five_subsectors).mark_bar().encode(\n",
    "    y=alt.Y(\"subsectors\", sort=\"-x\", title=\"Subsectors\"),\n",
    "    x=alt.X(\"total_companies\", title=\"Total Companies\"),\n",
    "    color=alt.Color('subsectors:N', legend=None)  # Optional: remove the legend if it's redundant\n",
    ").properties(\n",
    "    title='Number of Companies by Subsector',\n",
    "    width=600,\n",
    "    height=300\n",
    ")\n",
    "\n",
    "# Configure overall visual theme\n",
    "chart = chart.configure_title(fontSize=20, anchor='start', color='black').configure_axis(\n",
    "    labelFontSize=12,\n",
    "    titleFontSize=14\n",
    ")\n",
    "\n",
    "chart.display()"
   ]
  }
 ],
 "metadata": {
  "kernelspec": {
   "display_name": ".venv",
   "language": "python",
   "name": "python3"
  },
  "language_info": {
   "codemirror_mode": {
    "name": "ipython",
    "version": 3
   },
   "file_extension": ".py",
   "mimetype": "text/x-python",
   "name": "python",
   "nbconvert_exporter": "python",
   "pygments_lexer": "ipython3",
   "version": "3.12.7"
  }
 },
 "nbformat": 4,
 "nbformat_minor": 2
}
